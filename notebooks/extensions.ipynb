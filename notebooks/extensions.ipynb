{
 "cells": [
  {
   "cell_type": "code",
   "execution_count": null,
   "id": "0",
   "metadata": {},
   "outputs": [],
   "source": [
    "import os\n",
    "from fair import FAIR\n",
    "from fair.io import read_properties\n",
    "from fair.interface import initialise\n",
    "import numpy as np\n",
    "import pandas as pd\n",
    "import matplotlib.pyplot as pl"
   ]
  },
  {
   "cell_type": "code",
   "execution_count": null,
   "id": "1",
   "metadata": {},
   "outputs": [],
   "source": [
    "f = FAIR()"
   ]
  },
  {
   "cell_type": "code",
   "execution_count": null,
   "id": "2",
   "metadata": {},
   "outputs": [],
   "source": [
    "f.define_time(1750, 2501, 1)\n",
    "f.define_scenarios([\"high-extension\", \"high-overshoot\", \"medium-extension\", \"medium-overshoot\", \"low\", \"verylow\", \"verylow-overshoot\"])\n",
    "species, properties = read_properties('../data/fair-parameters/species_configs_properties_1.4.1.csv')\n",
    "f.define_species(species, properties)\n",
    "f.ch4_method='Thornhill2021'\n",
    "df_configs = pd.read_csv('../data/fair-parameters/calibrated_constrained_parameters_1.4.1.csv', index_col=0)\n",
    "f.define_configs(df_configs.index)\n",
    "f.allocate()"
   ]
  },
  {
   "cell_type": "code",
   "execution_count": null,
   "id": "3",
   "metadata": {},
   "outputs": [],
   "source": [
    "f.fill_from_csv(\n",
    "    emissions_file='../data/emissions/extensions_1750-2500.csv',\n",
    "    forcing_file='../data/forcing/volcanic_solar.csv',\n",
    ")"
   ]
  },
  {
   "cell_type": "code",
   "execution_count": null,
   "id": "4",
   "metadata": {},
   "outputs": [],
   "source": [
    "colors = {\n",
    "    'high-extension': '#800000',\n",
    "    'high-overshoot': '#ff0000',\n",
    "    'medium-extension': '#c87820',\n",
    "    'medium-overshoot': '#d3a640',\n",
    "    'low': '#098740',\n",
    "    'verylow': '#0080d0',\n",
    "    'verylow-overshoot': '#100060',\n",
    "}"
   ]
  },
  {
   "cell_type": "code",
   "execution_count": null,
   "id": "5",
   "metadata": {},
   "outputs": [],
   "source": [
    "os.makedirs('../plots', exist_ok=True)"
   ]
  },
  {
   "cell_type": "code",
   "execution_count": null,
   "id": "6",
   "metadata": {},
   "outputs": [],
   "source": [
    "fig, ax = pl.subplots()\n",
    "for scenario in f.scenarios:\n",
    "    ax.plot(\n",
    "        f.timepoints,\n",
    "        (\n",
    "            f.emissions.sel(scenario=scenario, specie=\"CO2 FFI\", config=f.configs[0]) +\n",
    "            f.emissions.sel(scenario=scenario, specie=\"CO2 AFOLU\", config=f.configs[0])\n",
    "        ),\n",
    "        label=scenario,\n",
    "        color=colors[scenario]\n",
    "    )\n",
    "ax.set_ylabel(\"CO$_2$ emissions, GtCO$_2$ yr$^{-1}$\")\n",
    "ax.axhline(ls=':', color='k', lw=0.5)\n",
    "ax.legend();\n",
    "pl.savefig('../plots/co2_emissions.png')"
   ]
  },
  {
   "cell_type": "code",
   "execution_count": null,
   "id": "7",
   "metadata": {},
   "outputs": [],
   "source": [
    "df_emis = pd.read_csv('../data/emissions/extensions_1750-2500.csv')#\n",
    "df_emis.loc[df_emis['variable']==\"GHG\", \"1750.5\"]"
   ]
  },
  {
   "cell_type": "code",
   "execution_count": null,
   "id": "8",
   "metadata": {},
   "outputs": [],
   "source": [
    "fig, ax = pl.subplots()\n",
    "for scenario in f.scenarios:\n",
    "    ax.plot(\n",
    "        f.timepoints,\n",
    "        df_emis.loc[(df_emis['variable']==\"GHG\") & (df_emis['scenario']==scenario), \"1750.5\":].squeeze() / 1e6,\n",
    "        label=scenario,\n",
    "        color=colors[scenario]\n",
    "    )\n",
    "ax.set_ylabel(\"GHG emissions, GtCO$_2$eq yr$^{-1}$\")\n",
    "ax.axhline(ls=':', color='k', lw=0.5)\n",
    "ax.legend();\n",
    "pl.savefig('../plots/ghg_emissions.png')"
   ]
  },
  {
   "cell_type": "code",
   "execution_count": null,
   "id": "9",
   "metadata": {},
   "outputs": [],
   "source": [
    "f.fill_species_configs('../data/fair-parameters/species_configs_properties_1.4.1.csv')"
   ]
  },
  {
   "cell_type": "code",
   "execution_count": null,
   "id": "10",
   "metadata": {},
   "outputs": [],
   "source": [
    "f.override_defaults('../data/fair-parameters/calibrated_constrained_parameters_1.4.1.csv')"
   ]
  },
  {
   "cell_type": "code",
   "execution_count": null,
   "id": "11",
   "metadata": {},
   "outputs": [],
   "source": [
    "initialise(f.concentration, f.species_configs[\"baseline_concentration\"])\n",
    "initialise(f.forcing, 0)\n",
    "initialise(f.temperature, 0)\n",
    "initialise(f.cumulative_emissions, 0)\n",
    "initialise(f.airborne_emissions, 0)\n",
    "initialise(f.ocean_heat_content_change, 0)"
   ]
  },
  {
   "cell_type": "code",
   "execution_count": null,
   "id": "12",
   "metadata": {},
   "outputs": [],
   "source": [
    "f.run()"
   ]
  },
  {
   "cell_type": "code",
   "execution_count": null,
   "id": "13",
   "metadata": {},
   "outputs": [],
   "source": [
    "fig, ax = pl.subplots()\n",
    "for scenario in f.scenarios:\n",
    "    ax.fill_between(\n",
    "        f.timebounds,\n",
    "        (\n",
    "            f.temperature.sel(scenario=scenario, layer=0)-\n",
    "            f.temperature.sel(scenario=scenario, layer=0, timebounds=np.arange(1850,1902)).mean(dim='timebounds')\n",
    "        ).quantile(0.05, dim='config'),\n",
    "        (\n",
    "            f.temperature.sel(scenario=scenario, layer=0)-\n",
    "            f.temperature.sel(scenario=scenario, layer=0, timebounds=np.arange(1850,1902)).mean(dim='timebounds')\n",
    "        ).quantile(0.95, dim='config'),\n",
    "        color=colors[scenario],\n",
    "        lw=0,\n",
    "        alpha=0.1\n",
    "    )\n",
    "    ax.plot(\n",
    "        f.timebounds,\n",
    "        (\n",
    "            f.temperature.sel(scenario=scenario, layer=0)-\n",
    "            f.temperature.sel(scenario=scenario, layer=0, timebounds=np.arange(1850,1902)).mean(dim='timebounds')\n",
    "        ).median(dim='config'),\n",
    "        label=scenario,\n",
    "        color=colors[scenario]\n",
    "    )\n",
    "ax.axhline(0, ls=':', color='k', lw=0.5)\n",
    "ax.set_ylabel('temperature above 1850-1900, K')\n",
    "pl.legend();\n",
    "pl.savefig('../plots/temperature.png')"
   ]
  },
  {
   "cell_type": "code",
   "execution_count": null,
   "id": "14",
   "metadata": {},
   "outputs": [],
   "source": [
    "fig, ax = pl.subplots()\n",
    "for scenario in f.scenarios:\n",
    "    ax.plot(\n",
    "        f.timebounds,\n",
    "        f.concentration.sel(scenario=scenario, specie=\"CO2\").median(dim='config'),\n",
    "        label=scenario,\n",
    "        color=colors[scenario]\n",
    "    )\n",
    "ax.set_ylabel('CO$_2$ concentration, ppm')\n",
    "pl.legend();\n",
    "pl.savefig('../plots/co2_concentration.png')"
   ]
  },
  {
   "cell_type": "code",
   "execution_count": null,
   "id": "15",
   "metadata": {},
   "outputs": [],
   "source": [
    "fig, ax = pl.subplots()\n",
    "for scenario in f.scenarios:\n",
    "    pl.plot(\n",
    "        f.timebounds,\n",
    "        f.forcing_sum.sel(scenario=scenario).median(dim='config'),\n",
    "        label=scenario,\n",
    "        color=colors[scenario]\n",
    "    )\n",
    "ax.set_ylabel('Effective radiative forcing, W m$^{-2}$')\n",
    "pl.legend();\n",
    "pl.savefig('../plots/forcing.png')"
   ]
  },
  {
   "cell_type": "code",
   "execution_count": null,
   "id": "16",
   "metadata": {},
   "outputs": [],
   "source": []
  }
 ],
 "metadata": {
  "kernelspec": {
   "display_name": ".conda-explore-extensions Python (Conda)",
   "language": "python",
   "name": "conda-env-.conda-explore-extensions-py"
  },
  "language_info": {
   "codemirror_mode": {
    "name": "ipython",
    "version": 3
   },
   "file_extension": ".py",
   "mimetype": "text/x-python",
   "name": "python",
   "nbconvert_exporter": "python",
   "pygments_lexer": "ipython3",
   "version": "3.11.0"
  }
 },
 "nbformat": 4,
 "nbformat_minor": 5
}
